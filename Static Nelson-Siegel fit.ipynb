{
 "cells": [
  {
   "cell_type": "markdown",
   "metadata": {},
   "source": [
    "Yield curve interpolation using the Nelson-Siegel parametric family\n",
    "====================================\n",
    "\n",
    "This jupyter notebook demostrates the Nelson-Siegel parametric family and its usage for interpolation of the yield curve. The notebook is a suplement to the report Ayliffe and Rubin [1] which grew as an extension of Kelly Ayliffe's semester project at Ecole Polytechnique Fédéral de Lausanne, Switzerland under the supervision of Tomas Rubin.\n",
    "\n",
    "Contacts:\n",
    "- Ayliffe Kelly, kellyayliffe@gmail.com\n",
    "- Tomas Rubin, tomas.rubin@gmail.com\n",
    "\n",
    "\n",
    "Nelson-Siegel factor loading curves\n",
    "-----------------\n",
    "\n",
    "The Nelson-Siegel (Nelson and Siegel, 1987) parametric family includes 3 functions, technically called factor loading curves, often used for parsimonious interpolation of yields. \n",
    "The 3 Nelson-Siegel factor loading curves depending on the parameter \\\\(\\lambda > 0\\\\) are defined as\n",
    "1. **The level function** is constant and determines the long-rung level of the yields\n",
    "2. **The slope function** is defiend as \\\\(  (1-e^{-\\lambda\\tau})(\\lambda\\tau)^{-1} \\\\) starts at one but rapidly decrease towards zero. Therefore it determines the short-term yields only.\n",
    "3. **The curvature function** is defiend as \\\\(  (1-e^{-\\lambda\\tau})(\\lambda\\tau)^{-1} - e^{-\\lambda\\tau} \\\\) increases from zero (thus not affecting the short maturities), peaks and then rapidly decreases again. It is therefore responsible for the medium-term maturities.\n",
    "\n",
    "The three factor loading curves are visualised bellow with varying parameter \\\\(\\lambda > 0\\\\). We visualise three choices\n",
    "1. \\\\(\\lambda^{user} \\\\) is a value of the parameter that the user can choose here how he or she wishes for exploring its impact\n",
    "2. \\\\( \\lambda^{our} = 0.496 \\\\) is the value of the parameter determined to be optimal in terms of ordinary least squares fit. Details in presented in our report Ayliffe and Rubin [1].\n",
    "3. \\\\( \\lambda^{DL} = 0.0609 \\\\) is the value of the parameter recommended by Diebold and Li [2]. They determined this value by determining the location of the maximum curvature.\n",
    "\n",
    "The yield curve expressed in Nelson-Siegel parametric family is than of the form\n",
    "\\\\[ y(\\tau) = L + S \\left( \\frac{1-e^{-\\lambda\\tau}}{\\lambda\\tau} \\right) + C \\left( \\frac{1-e^{-\\lambda\\tau}}{\\lambda\\tau} -e^{-\\lambda\\tau}\\right) \\\\]\n",
    "where the coefficients \\\\( L,S,C \\\\), called the factor, are called **the level**, **the slope**, and **the curvature** respectively. In order to fit\n",
    "\n",
    "Fitting the Nelson-Siegel parametric family\n",
    "--------\n",
    "\n",
    "The classical approach is to fit the Nelson-Siegel parametric family individually for each cross-section, i.e. the yields available at a given day.\n",
    "Denote \\\\( y(\\tau_i) \\\\) the yield observed at the maturity \\\\( \\tau_i \\\\) where \\\\( i =1,\\dots,n\\\\) ranges through available maturities. For the US threasury, \\\\[ (\\tau_1, \\dots, \\tau_{11}) = ([1/12,3/12,6/12,1,2,3,5,7,10,20,30)  \\\\] expressed in years.\n",
    "The estimation of the factors \\\\( L,S,C \\\\) is performed by the ordinary least squares fitting:\n",
    "\\\\[ (L,S,C) = \\arg\\min_{l,s,c} \\sum_{i=1}^n \\left( y(\\tau_i) -\n",
    "l + s \\left( \\frac{1-e^{-\\lambda\\tau_i}}{\\lambda\\tau_i} \\right) + c \\left( \\frac{1-e^{-\\lambda\\tau_i}}{\\lambda\\tau_i} -e^{-\\lambda\\tau_i}\\right)\n",
    "\\right)^2 \\\\]\n",
    "\n",
    "References\n",
    "-----\n",
    "[1] Ayliffe, Kelly, and Rubin, Tomas (2020). \"A Quantitative Comparison of Yield Curve Models in the MINT Economies.\" *EPFL Infoscience.* URL: https://infoscience.epfl.ch/record/279314\n",
    "\n",
    "[2] Diebold, Francis X., and Canlin Li. \"Forecasting the term structure of government bond yields.\" Journal of econometrics "
   ]
  },
  {
   "cell_type": "code",
   "execution_count": null,
   "metadata": {},
   "outputs": [],
   "source": [
    "# USER INPUT HERE\n",
    "user_lambda = 0.1 # choose your value of lambda, should be in (0,+inf)"
   ]
  },
  {
   "cell_type": "markdown",
   "metadata": {},
   "source": [
    "Import packages and data\n",
    "---------------"
   ]
  },
  {
   "cell_type": "code",
   "execution_count": null,
   "metadata": {},
   "outputs": [],
   "source": [
    "# IMPORT PACKAGES\n",
    "import numpy as np\n",
    "import math\n",
    "import pandas as pd\n",
    "import matplotlib.pyplot as plt\n",
    "from yield_curve_functions import DNS_OLS, DNS_formula # import our custom functions"
   ]
  },
  {
   "cell_type": "code",
   "execution_count": null,
   "metadata": {},
   "outputs": [],
   "source": [
    "# IMPORT DATA\n",
    "y_df = pd.read_excel('US_daily.xlsx', columns = ['dates',1/12,3/12,6/12,1,2,3,5,7,10,20,30], index='dates');\n",
    "y = y_df.to_numpy()\n",
    "matu = np.array([[1/12,3/12,6/12,1,2,3,5,7,10,20,30]])\n",
    "\n",
    "dates = y[:,0]\n",
    "\n",
    "current=1 #this variable keeps track of the dates in the original dataset that have already been added. It is a row index in the original table.\n",
    "currentDate = np.datetime64(dates[0]) # this variable keeps track of all dates that need to be added.\n",
    "\n",
    "# The following two tables will be concatenated horizontally to create the full, new dataset\n",
    "CompleteTable = np.array([y[0,1:]]) #Table with added yields (has copied lines where extra dates have been added)\n",
    "CompleteDates = np.array([[currentDate]], dtype='datetime64') #Will be the full dates column\n",
    "\n",
    "AddDay = np.timedelta64(1,'D')\n",
    "\n",
    "cdnp = np.array([[currentDate]],dtype='datetime64') #single entry array. Used to have a compatible format (np.array) for adding the dates to CompleteDates.\n",
    "\n",
    "while current<y_df.shape[0]:\n",
    "    currentDate = currentDate + AddDay\n",
    "    cdnp[0][0] = currentDate\n",
    "    CompleteDates = np.hstack((CompleteDates,cdnp))\n",
    "    dateInTable = np.datetime64(dates[current])\n",
    "    \n",
    "    if dateInTable != currentDate:\n",
    "        CompleteTable = np.vstack((CompleteTable,CompleteTable[-1])) #copies last available line into the table\n",
    "        \n",
    "    if dateInTable == currentDate:\n",
    "        CompleteTable = np.vstack((CompleteTable,y[current,1:])) #adds yield curve corresponding to currentDate\n",
    "        current = current + 1\n",
    "\n",
    "#Updating to full table\n",
    "y = np.hstack((CompleteDates.transpose(), CompleteTable))\n",
    "dates = np.array([y[:,0]])\n",
    "y = np.delete(y,0,1) #seperating dates and yields\n",
    "y = np.array(y,dtype = float)"
   ]
  },
  {
   "cell_type": "markdown",
   "metadata": {},
   "source": [
    "Fit 4 randomly selected yield curves through Nelson-Siegel family\n",
    "----------"
   ]
  },
  {
   "cell_type": "code",
   "execution_count": null,
   "metadata": {},
   "outputs": [],
   "source": [
    "# SELECT RANDOMLY 4 DAYS TO DISPLAY, CALCULATE THE NELSON-SIEGEL FIT\n",
    "t_display = np.sort( np.random.choice( y.shape[0], size=4, replace=False ) )\n",
    "y_now = y[t_display,:]\n",
    "\n",
    "# OLS fitting of the coefficients\n",
    "user_ts = DNS_OLS(y_now,matu,user_lambda) \n",
    "\n",
    "our_lambda = 0.496 \n",
    "our_ts = DNS_OLS(y_now,matu,our_lambda) \n",
    "\n",
    "DL_lambda = 0.0609\n",
    "DL_ts = DNS_OLS(y_now,matu,DL_lambda)"
   ]
  },
  {
   "cell_type": "code",
   "execution_count": null,
   "metadata": {},
   "outputs": [],
   "source": [
    "# DRAW 4 RANDOMLY CHOOSEN YIELD CURVES, INTERPOLATE WITH VARIOS VALUES OF LAMBDA\n",
    "# lambda^user .... the lambda defined by the user for exploration\n",
    "# lambda^ours = 0.496 the lambda used in our analysis, was determined to minimise least squares\n",
    "# lambda^DL = 0.0609  the value of lambda recommended by Diebold and Li (2006)\n",
    "\n",
    "# visualise the static NS fit for fixed time\n",
    "tau_grid = np.linspace(start=0.001, stop=30, num=100)\n",
    "\n",
    "f, axarr = plt.subplots(4, 1, figsize=(15,15))\n",
    "for ii in range(4):    \n",
    "    #f, (ax1, ax2) = plt.subplot(4, 1, ii+1,figsize=(15,15))    \n",
    "    axarr[ii].plot( tau_grid, DNS_formula( tau_grid, user_ts[ii,:], user_lambda ) )\n",
    "    axarr[ii].plot( tau_grid, DNS_formula( tau_grid, our_ts[ii,:], our_lambda ) )\n",
    "    axarr[ii].plot( tau_grid, DNS_formula( tau_grid, DL_ts[ii,:], DL_lambda ) )    \n",
    "    axarr[ii].scatter(matu,y_now[ii])\n",
    "    axarr[ii].set_title( dates[0,t_display[ii]].date() )\n",
    "    axarr[ii].set_ylabel(\"yield [%]\")\n",
    "    axarr[ii].legend([r'NS with $\\lambda^{user}=$'+str(user_lambda),r'NS with $\\lambda^{our} = 0.496$',r'NS with $\\lambda^{DL} = 0.0609$'])\n",
    "    if ii == 3:\n",
    "        axarr[ii].set_xlabel(\"maturity [years]\")\n"
   ]
  }
 ],
 "metadata": {
  "kernelspec": {
   "display_name": "Python 3",
   "language": "python",
   "name": "python3"
  },
  "language_info": {
   "codemirror_mode": {
    "name": "ipython",
    "version": 3
   },
   "file_extension": ".py",
   "mimetype": "text/x-python",
   "name": "python",
   "nbconvert_exporter": "python",
   "pygments_lexer": "ipython3",
   "version": "3.7.7"
  }
 },
 "nbformat": 4,
 "nbformat_minor": 2
}
